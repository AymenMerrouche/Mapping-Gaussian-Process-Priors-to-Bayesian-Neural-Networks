{
 "cells": [
  {
   "cell_type": "markdown",
   "metadata": {},
   "source": [
    "## Conclusion :\n",
    "The proposed method, in fact, allowed a more flexible way of defining more expressive BNNs by specifying the prior directly on the function space. However, this method suffers from some drawbacks:\n",
    "* There are limitations to this method, we can only map properties of GP priors to BNNs with configurations that could reasonably learn those properties. For example, it is not possible to map the properties of a GP prior with a periodic kernel to a BNN that doesn't have a periodic activation function.\n",
    "* No efficient estimator of the entropy term which acts as a regularizer. This leaves no choice than to perform early stoping. We observe that at the beginning of the prior optimisation, samples from the optimized BNN prior would take on the properties of the GP prior then gradually flatten and lose the desired properties. This makes the prior optimisation a rather complicated task."
   ]
  },
  {
   "cell_type": "code",
   "execution_count": null,
   "metadata": {},
   "outputs": [],
   "source": []
  }
 ],
 "metadata": {
  "kernelspec": {
   "display_name": "Python 3",
   "language": "python",
   "name": "python3"
  },
  "language_info": {
   "codemirror_mode": {
    "name": "ipython",
    "version": 3
   },
   "file_extension": ".py",
   "mimetype": "text/x-python",
   "name": "python",
   "nbconvert_exporter": "python",
   "pygments_lexer": "ipython3",
   "version": "3.6.9"
  }
 },
 "nbformat": 4,
 "nbformat_minor": 4
}
