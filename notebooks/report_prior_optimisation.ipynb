{
 "cells": [
  {
   "cell_type": "markdown",
   "metadata": {},
   "source": [
    "# Reproducing Mapping Gaussian Process Priors to Bayesian Neural Networks\n",
    "\n",
    "todo: explain framework, main ideas and equations"
   ]
  },
  {
   "cell_type": "markdown",
   "metadata": {},
   "source": [
    "## Reproducing the results\n",
    "todo: plots like in the paper, 1D curves\n",
    "\n",
    "### Learning Gaussian Process priors\n",
    "no regression, simply look at the priors\n",
    "\n",
    "### Regression task in small dimension\n",
    "after training on 1d data, plot results with variational inference\n",
    "\n",
    "### The critical role of activation functions\n",
    "Papers states:\n",
    "- “We found that we could not map GP priors to BNNs with certain activation functions”\n",
    "- In particular, using a ReLU activation function “the BNN could not, at any capacity, learn the smoothness or periodic properties of any more interesting GP prior”\n",
    "\n",
    "We also found that activation function played an essential role in the expressive power of BNNs. Notably, using ReLU activation function made it really difficult to learn a simple periodic function, where a classical MLP had no issue.\n",
    "\n",
    "todo: plots of 1D regression with ReLU, for BNN (after careful hyper param optim on sigma1/2 + early stopping, still very sensitive to HP changes) and regular MLP + learning curves (stability issue)"
   ]
  },
  {
   "cell_type": "markdown",
   "metadata": {},
   "source": [
    "## Scale-up study\n",
    "todo: compare\n",
    "- BNN, default N(0,1) prior\n",
    "- BNN, mixture of gaussians, tune a bit?\n",
    "- BNN, optimized prior to match GP\n",
    "- GP\n",
    "on classification tasks with different dimensions\n",
    "\n",
    "And/or try changing the network architecture?"
   ]
  },
  {
   "cell_type": "markdown",
   "metadata": {},
   "source": [
    "## BNN Prior Optimisation\n"
   ]
  },
  {
   "cell_type": "code",
   "execution_count": null,
   "metadata": {},
   "outputs": [],
   "source": []
  },
  {
   "cell_type": "code",
   "execution_count": null,
   "metadata": {},
   "outputs": [],
   "source": []
  }
 ],
 "metadata": {
  "kernelspec": {
   "display_name": "Python 3",
   "language": "python",
   "name": "python3"
  },
  "language_info": {
   "codemirror_mode": {
    "name": "ipython",
    "version": 3
   },
   "file_extension": ".py",
   "mimetype": "text/x-python",
   "name": "python",
   "nbconvert_exporter": "python",
   "pygments_lexer": "ipython3",
   "version": "3.7.3"
  }
 },
 "nbformat": 4,
 "nbformat_minor": 4
}
